{
 "cells": [
  {
   "cell_type": "code",
   "execution_count": 38,
   "metadata": {},
   "outputs": [
    {
     "name": "stdout",
     "output_type": "stream",
     "text": [
      "Welcome to MC Cafe!\n",
      "\n",
      "\n",
      "Would you like to see the menu? (y/n): \ty\n",
      "Item: Espresso \t \t Price: 1.5\n",
      "Item: Americano \t \t Price: 2.0\n",
      "Item: Caffe latte \t \t Price: 2.25\n",
      "Item: Mocha \t \t Price: 2.25\n",
      "Item: Cappucino \t \t Price: 2.5\n",
      "Item: Macchiato \t \t Price: 2.5\n",
      "Item: White tea \t \t Price: 1.5\n",
      "Item: Green tea \t \t Price: 2.0\n",
      "Item: Oolong tea \t \t Price: 2.25\n",
      "Item: Black tea \t \t Price: 2.25\n",
      "Item: Earl Grey \t \t Price: 2.5\n",
      "Item: Matcha \t \t Price: 2.5\n",
      "Item: Croissant \t \t Price: 5.5\n",
      "Item: Cinnamon roll \t \t Price: 4.5\n",
      "Item: Banna bread \t \t Price: 4.25\n",
      "Item: Pumpkin bread \t \t Price: 3.75\n",
      "Item: Sticky bun \t \t Price: 4.25\n",
      "Item: Apple turnover \t \t Price: 3.375\n",
      "Would you like to place an order? (y/n): \ty\n",
      "Please enter your order?: \tEspresso\n",
      "Please eneter your item quantity: \t1\n",
      "Would you like to place an order? (y/n): \tn\n",
      "Item: Espresso \t \t Quantity: 1\n"
     ]
    }
   ],
   "source": [
    "coffee = { 'Espresso': 1.50,'Americano': 2.00, 'Caffe latte': 2.25, 'Mocha': 2.25, 'Cappucino': 2.50, 'Macchiato': 2.50}\n",
    "tea = {'White tea':1.50, 'Green tea': 2.00, 'Oolong tea': 2.25, 'Black tea': 2.25, 'Earl Grey': 2.50, 'Matcha': 2.50}\n",
    "pastries = {'Croissant':5.50, 'Cinnamon roll':4.50, 'Banna bread': 4.25, 'Pumpkin bread':3.75,'Sticky bun':4.25, 'Apple turnover':3.375}\n",
    "\n",
    "total_menu = {1:coffee, 2:tea, 3:pastries}\n",
    "\n",
    "order = {}\n",
    "\n",
    "print('Welcome to MC Cafe!')\n",
    "print('\\n')\n",
    "user_input_one = input('Would you like to see the menu? (y/n): \\t')\n",
    "\n",
    "if user_input_one == 'y':\n",
    "    for k,v in coffee.items():\n",
    "        print(f'Item: {k} \\t \\t Price: {v}')\n",
    "    for k,v in tea.items():\n",
    "        print(f'Item: {k} \\t \\t Price: {v}')\n",
    "    for k,v in pastries.items():\n",
    "        print(f'Item: {k} \\t \\t Price: {v}')\n",
    "\n",
    "while True:\n",
    "    user_input_two = input('Would you like to place an order? (y/n): \\t')\n",
    "    if user_input_two == 'y':\n",
    "        user_input_three = input('Please enter your order?: \\t')\n",
    "        user_input_four = int(input('Please eneter your item quantity: \\t'))\n",
    "        order[user_input_three] = user_input_four\n",
    "    elif user_input_two == 'n':\n",
    "        break\n",
    "    for k,v in order.items():\n",
    "        print(f'Item: {k} \\t \\t Quantity: {v}')\n",
    "\n",
    "total = 0\n",
    "tmp = []\n",
    "for key in order.keys():\n",
    "    newt = key\n",
    "    if newt in total_menu:\n",
    "        print(total_menu[newt])\n",
    "        \n",
    "    \n",
    "\n",
    "    \n",
    "\n",
    "\n",
    "\n",
    "    \n",
    "\n",
    "\n",
    "\n",
    "    "
   ]
  },
  {
   "cell_type": "code",
   "execution_count": null,
   "metadata": {},
   "outputs": [],
   "source": []
  },
  {
   "cell_type": "code",
   "execution_count": null,
   "metadata": {},
   "outputs": [],
   "source": []
  }
 ],
 "metadata": {
  "kernelspec": {
   "display_name": "Python 3",
   "language": "python",
   "name": "python3"
  },
  "language_info": {
   "codemirror_mode": {
    "name": "ipython",
    "version": 3
   },
   "file_extension": ".py",
   "mimetype": "text/x-python",
   "name": "python",
   "nbconvert_exporter": "python",
   "pygments_lexer": "ipython3",
   "version": "3.8.3"
  }
 },
 "nbformat": 4,
 "nbformat_minor": 4
}
