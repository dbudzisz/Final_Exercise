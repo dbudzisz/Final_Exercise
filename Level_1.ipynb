{
 "cells": [
  {
   "cell_type": "code",
   "execution_count": 30,
   "metadata": {},
   "outputs": [
    {
     "name": "stdout",
     "output_type": "stream",
     "text": [
      "Please enter 'Rock', 'Paer', or 'Scissors': \tPaper\n",
      "You lose.\n",
      "Do you want to play again? (y/n): y\n",
      "Please enter 'Rock', 'Paer', or 'Scissors': \tRock\n",
      "You win!\n",
      "Do you want to play again? (y/n): n\n"
     ]
    }
   ],
   "source": [
    "import random as rand\n",
    "rand_variable = rand.randint(0,2)\n",
    "\n",
    "while True:\n",
    "    user_input = input('Please enter \\'Rock\\', \\'Paer\\', or \\'Scissors\\': \\t')\n",
    "\n",
    "    for value in user_input:\n",
    "        if rand_variable == 0:\n",
    "            rand_variable = 'Rock'\n",
    "        elif rand_variable == 1:\n",
    "                rand_variable = 'Paper'\n",
    "        else:\n",
    "            rand_variable = 'Scissors'\n",
    "            \n",
    "    if user_input == rand_variable:\n",
    "        print('It\\'s a draw.') \n",
    "    elif user_input == 'Rock' and rand_variable == 'Paper':\n",
    "        print('You lose.')\n",
    "    elif user_input == 'Rock' and rand_variable == 'Scissors':\n",
    "        print('You win!')\n",
    "    elif user_input == 'Paper' and rand_variable == 'Rock':\n",
    "        print('You win!')\n",
    "    elif user_input == 'Paper' and rand_variable == 'Scissors':\n",
    "        print('You lose.')\n",
    "    elif user_input == 'Scissors' and rand_variable == 'Paper':\n",
    "        print('You win.')\n",
    "    elif user_input == 'Scissors' and rand_variable == 'rock':\n",
    "        print('You lose.')\n",
    "    \n",
    "    user_input_two = input('Do you want to play again? (y/n): ')\n",
    "    if user_input_two == 'y':\n",
    "        continue\n",
    "    else:\n",
    "        break\n",
    "\n",
    "        \n",
    "\n",
    "    "
   ]
  },
  {
   "cell_type": "code",
   "execution_count": null,
   "metadata": {},
   "outputs": [],
   "source": []
  },
  {
   "cell_type": "code",
   "execution_count": null,
   "metadata": {},
   "outputs": [],
   "source": []
  }
 ],
 "metadata": {
  "kernelspec": {
   "display_name": "Python 3",
   "language": "python",
   "name": "python3"
  },
  "language_info": {
   "codemirror_mode": {
    "name": "ipython",
    "version": 3
   },
   "file_extension": ".py",
   "mimetype": "text/x-python",
   "name": "python",
   "nbconvert_exporter": "python",
   "pygments_lexer": "ipython3",
   "version": "3.8.3"
  }
 },
 "nbformat": 4,
 "nbformat_minor": 4
}
